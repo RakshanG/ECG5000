{
 "cells": [
  {
   "cell_type": "code",
   "execution_count": 53,
   "id": "5afdad2c-9d7a-485f-9249-c68d577316b6",
   "metadata": {},
   "outputs": [
    {
     "name": "stderr",
     "output_type": "stream",
     "text": [
      "WARNING:absl:At this time, the v2.11+ optimizer `tf.keras.optimizers.Adam` runs slowly on M1/M2 Macs, please use the legacy Keras optimizer instead, located at `tf.keras.optimizers.legacy.Adam`.\n",
      "WARNING:absl:There is a known slowdown when using v2.11+ Keras optimizers on M1/M2 Macs. Falling back to the legacy Keras optimizer, i.e., `tf.keras.optimizers.legacy.Adam`.\n"
     ]
    },
    {
     "name": "stdout",
     "output_type": "stream",
     "text": [
      "Unique labels before: [-6 -5 -4 -3 -2 -1  0  1  2  3  4]\n",
      "Epoch 1/20\n"
     ]
    },
    {
     "name": "stderr",
     "output_type": "stream",
     "text": [
      "2025-08-31 23:21:17.770446: I tensorflow/core/grappler/optimizers/custom_graph_optimizer_registry.cc:114] Plugin optimizer for device_type GPU is enabled.\n",
      "2025-08-31 23:21:17.883714: I tensorflow/core/grappler/optimizers/custom_graph_optimizer_registry.cc:114] Plugin optimizer for device_type GPU is enabled.\n",
      "2025-08-31 23:21:17.917992: I tensorflow/core/grappler/optimizers/custom_graph_optimizer_registry.cc:114] Plugin optimizer for device_type GPU is enabled.\n"
     ]
    },
    {
     "name": "stdout",
     "output_type": "stream",
     "text": [
      " 4/50 [=>............................] - ETA: 0s - loss: 1.7383 - accuracy: 0.1523 "
     ]
    },
    {
     "name": "stderr",
     "output_type": "stream",
     "text": [
      "2025-08-31 23:21:17.996860: I tensorflow/core/grappler/optimizers/custom_graph_optimizer_registry.cc:114] Plugin optimizer for device_type GPU is enabled.\n",
      "2025-08-31 23:21:18.069950: I tensorflow/core/grappler/optimizers/custom_graph_optimizer_registry.cc:114] Plugin optimizer for device_type GPU is enabled.\n"
     ]
    },
    {
     "name": "stdout",
     "output_type": "stream",
     "text": [
      "50/50 [==============================] - ETA: 0s - loss: 1.0092 - accuracy: 0.5341"
     ]
    },
    {
     "name": "stderr",
     "output_type": "stream",
     "text": [
      "2025-08-31 23:21:19.106968: I tensorflow/core/grappler/optimizers/custom_graph_optimizer_registry.cc:114] Plugin optimizer for device_type GPU is enabled.\n",
      "2025-08-31 23:21:19.153667: I tensorflow/core/grappler/optimizers/custom_graph_optimizer_registry.cc:114] Plugin optimizer for device_type GPU is enabled.\n",
      "2025-08-31 23:21:19.183890: I tensorflow/core/grappler/optimizers/custom_graph_optimizer_registry.cc:114] Plugin optimizer for device_type GPU is enabled.\n"
     ]
    },
    {
     "name": "stdout",
     "output_type": "stream",
     "text": [
      "50/50 [==============================] - 2s 25ms/step - loss: 1.0092 - accuracy: 0.5341 - val_loss: 0.4811 - val_accuracy: 0.6025\n",
      "Epoch 2/20\n",
      "50/50 [==============================] - 1s 19ms/step - loss: 0.5622 - accuracy: 0.6081 - val_loss: 0.4548 - val_accuracy: 0.6025\n",
      "Epoch 3/20\n",
      "50/50 [==============================] - 1s 20ms/step - loss: 0.5477 - accuracy: 0.5938 - val_loss: 0.4344 - val_accuracy: 0.6025\n",
      "Epoch 4/20\n",
      "50/50 [==============================] - 1s 20ms/step - loss: 0.5314 - accuracy: 0.5884 - val_loss: 0.4203 - val_accuracy: 0.6025\n",
      "Epoch 5/20\n",
      "50/50 [==============================] - 1s 19ms/step - loss: 0.5224 - accuracy: 0.5925 - val_loss: 0.4209 - val_accuracy: 0.6025\n",
      "Epoch 6/20\n",
      "50/50 [==============================] - 1s 22ms/step - loss: 0.5094 - accuracy: 0.5978 - val_loss: 0.4166 - val_accuracy: 0.6025\n",
      "Epoch 7/20\n",
      "50/50 [==============================] - 1s 20ms/step - loss: 0.5198 - accuracy: 0.5975 - val_loss: 0.4339 - val_accuracy: 0.6025\n",
      "Epoch 8/20\n",
      "50/50 [==============================] - 1s 21ms/step - loss: 0.5084 - accuracy: 0.6016 - val_loss: 0.4193 - val_accuracy: 0.6025\n",
      "Epoch 9/20\n",
      "50/50 [==============================] - 1s 19ms/step - loss: 0.5078 - accuracy: 0.6047 - val_loss: 0.4326 - val_accuracy: 0.6025\n",
      "Epoch 10/20\n",
      "50/50 [==============================] - 1s 21ms/step - loss: 0.4979 - accuracy: 0.5978 - val_loss: 0.4130 - val_accuracy: 0.6025\n",
      "Epoch 11/20\n",
      "50/50 [==============================] - 1s 19ms/step - loss: 0.5048 - accuracy: 0.6009 - val_loss: 0.4187 - val_accuracy: 0.6025\n",
      "Epoch 12/20\n",
      "50/50 [==============================] - 1s 20ms/step - loss: 0.5085 - accuracy: 0.5997 - val_loss: 0.4186 - val_accuracy: 0.6025\n",
      "Epoch 13/20\n",
      "50/50 [==============================] - 1s 20ms/step - loss: 0.5078 - accuracy: 0.6028 - val_loss: 0.4634 - val_accuracy: 0.6025\n",
      "Epoch 14/20\n",
      "50/50 [==============================] - 1s 19ms/step - loss: 0.5109 - accuracy: 0.6006 - val_loss: 0.4158 - val_accuracy: 0.6025\n",
      "Epoch 15/20\n",
      "50/50 [==============================] - 1s 18ms/step - loss: 0.5119 - accuracy: 0.5978 - val_loss: 0.4377 - val_accuracy: 0.6025\n",
      "Epoch 16/20\n",
      "50/50 [==============================] - 1s 20ms/step - loss: 0.5085 - accuracy: 0.5966 - val_loss: 0.4275 - val_accuracy: 0.6025\n",
      "Epoch 17/20\n",
      "50/50 [==============================] - 1s 20ms/step - loss: 0.5174 - accuracy: 0.5969 - val_loss: 0.4194 - val_accuracy: 0.6025\n",
      "Epoch 18/20\n",
      "50/50 [==============================] - 1s 20ms/step - loss: 0.5089 - accuracy: 0.6003 - val_loss: 0.4097 - val_accuracy: 0.6025\n",
      "Epoch 19/20\n",
      "50/50 [==============================] - 1s 19ms/step - loss: 0.5093 - accuracy: 0.5966 - val_loss: 0.4206 - val_accuracy: 0.6025\n",
      "Epoch 20/20\n",
      "50/50 [==============================] - 1s 20ms/step - loss: 0.5082 - accuracy: 0.5891 - val_loss: 0.4118 - val_accuracy: 0.6025\n",
      "32/32 [==============================] - 0s 10ms/step - loss: 0.4427 - accuracy: 0.6130\n",
      "Test Accuracy: 0.6130, Test Loss: 0.4427\n",
      "10/32 [========>.....................] - ETA: 0s"
     ]
    },
    {
     "name": "stderr",
     "output_type": "stream",
     "text": [
      "2025-08-31 23:21:38.697959: I tensorflow/core/grappler/optimizers/custom_graph_optimizer_registry.cc:114] Plugin optimizer for device_type GPU is enabled.\n",
      "2025-08-31 23:21:38.734960: I tensorflow/core/grappler/optimizers/custom_graph_optimizer_registry.cc:114] Plugin optimizer for device_type GPU is enabled.\n",
      "2025-08-31 23:21:38.765484: I tensorflow/core/grappler/optimizers/custom_graph_optimizer_registry.cc:114] Plugin optimizer for device_type GPU is enabled.\n"
     ]
    },
    {
     "name": "stdout",
     "output_type": "stream",
     "text": [
      "32/32 [==============================] - 0s 7ms/step\n",
      "\n",
      "Classification Report:\n",
      "              precision    recall  f1-score   support\n",
      "\n",
      "          -4       0.00      0.00      0.00         2\n",
      "          -3       0.00      0.00      0.00         8\n",
      "          -2       0.00      0.00      0.00        48\n",
      "          -1       0.00      0.00      0.00       193\n",
      "           0       0.61      1.00      0.76       613\n",
      "           1       0.00      0.00      0.00       114\n",
      "           2       0.00      0.00      0.00        17\n",
      "           3       0.00      0.00      0.00         3\n",
      "           4       0.00      0.00      0.00         2\n",
      "\n",
      "    accuracy                           0.61      1000\n",
      "   macro avg       0.07      0.11      0.08      1000\n",
      "weighted avg       0.38      0.61      0.47      1000\n",
      "\n",
      "Model saved as ecg5000_lstm_model.h5\n"
     ]
    },
    {
     "name": "stderr",
     "output_type": "stream",
     "text": [
      "/Users/rakshangade/Library/Python/3.11/lib/python/site-packages/sklearn/metrics/_classification.py:1509: UndefinedMetricWarning: Precision is ill-defined and being set to 0.0 in labels with no predicted samples. Use `zero_division` parameter to control this behavior.\n",
      "  _warn_prf(average, modifier, f\"{metric.capitalize()} is\", len(result))\n",
      "/Users/rakshangade/Library/Python/3.11/lib/python/site-packages/sklearn/metrics/_classification.py:1509: UndefinedMetricWarning: Precision is ill-defined and being set to 0.0 in labels with no predicted samples. Use `zero_division` parameter to control this behavior.\n",
      "  _warn_prf(average, modifier, f\"{metric.capitalize()} is\", len(result))\n",
      "/Users/rakshangade/Library/Python/3.11/lib/python/site-packages/sklearn/metrics/_classification.py:1509: UndefinedMetricWarning: Precision is ill-defined and being set to 0.0 in labels with no predicted samples. Use `zero_division` parameter to control this behavior.\n",
      "  _warn_prf(average, modifier, f\"{metric.capitalize()} is\", len(result))\n",
      "/Library/Frameworks/Python.framework/Versions/3.11/lib/python3.11/site-packages/keras/src/engine/training.py:3000: UserWarning: You are saving your model as an HDF5 file via `model.save()`. This file format is considered legacy. We recommend using instead the native Keras format, e.g. `model.save('my_model.keras')`.\n",
      "  saving_api.save_model(\n"
     ]
    }
   ],
   "source": [
    "import pandas as pd\n",
    "import numpy as np\n",
    "from scipy.io import arff\n",
    "from sklearn.preprocessing import StandardScaler, LabelEncoder\n",
    "from sklearn.model_selection import train_test_split\n",
    "from sklearn.metrics import classification_report\n",
    "import tensorflow as tf\n",
    "from tensorflow.keras.models import Sequential\n",
    "from tensorflow.keras.layers import LSTM, Dense, Dropout\n",
    "import joblib\n",
    "\n",
    "train_data, _ = arff.loadarff(\"/Users/rakshangade/Downloads/ECG5000/ECG5000_TRAIN.arff\")\n",
    "test_data, _ = arff.loadarff(\"/Users/rakshangade/Downloads/ECG5000/ECG5000_TEST.arff\")\n",
    "\n",
    "train_df = pd.DataFrame(train_data)\n",
    "test_df = pd.DataFrame(test_data)\n",
    "df = pd.concat([train_df, test_df], ignore_index=True)\n",
    "\n",
    "X = df.iloc[:, 1:].values.astype(np.float32)\n",
    "y = df.iloc[:, 0].astype(int).values  # labels are 1–5 in ECG5000\n",
    "\n",
    "\n",
    "print(\"Unique labels before:\", np.unique(y))\n",
    "\n",
    "scaler = StandardScaler()\n",
    "X = scaler.fit_transform(X)\n",
    "joblib.dump(scaler, \"scaler.pkl\")\n",
    "\n",
    "X = X.reshape((X.shape[0], X.shape[1], 1))\n",
    "\n",
    "X_train, X_test, y_train, y_test = train_test_split(\n",
    "    X, y, test_size=0.2, random_state=42, stratify=y\n",
    ")\n",
    "\n",
    "model = Sequential([\n",
    "    LSTM(64, input_shape=(X_train.shape[1], 1), return_sequences=True),\n",
    "    Dropout(0.3),\n",
    "    LSTM(32),\n",
    "    Dropout(0.3),\n",
    "    Dense(32, activation=\"relu\"),\n",
    "    Dense(len(np.unique(y)), activation=\"softmax\")\n",
    "])\n",
    "\n",
    "model.compile(\n",
    "    loss=\"sparse_categorical_crossentropy\",\n",
    "    optimizer=tf.keras.optimizers.Adam(learning_rate=0.001),\n",
    "    metrics=[\"accuracy\"]\n",
    ")\n",
    "\n",
    "history = model.fit(\n",
    "    X_train, y_train,\n",
    "    epochs=20,\n",
    "    batch_size=64,\n",
    "    validation_split=0.2,\n",
    "    verbose=1\n",
    ")\n",
    "\n",
    "loss, acc = model.evaluate(X_test, y_test, verbose=1)\n",
    "print(f\"Test Accuracy: {acc:.4f}, Test Loss: {loss:.4f}\")\n",
    "\n",
    "y_pred = np.argmax(model.predict(X_test), axis=1)\n",
    "print(\"\\nClassification Report:\")\n",
    "print(classification_report(y_test, y_pred))\n",
    "\n",
    "model.save(\"ecg5000_lstm_model.h5\")\n",
    "print(\"Model saved as ecg5000_lstm_model.h5\")\n"
   ]
  },
  {
   "cell_type": "code",
   "execution_count": null,
   "id": "26f796e6-e2e3-452d-b2e7-89ce80889b3c",
   "metadata": {},
   "outputs": [],
   "source": []
  }
 ],
 "metadata": {
  "kernelspec": {
   "display_name": "Python 3.11 (pandas)",
   "language": "python",
   "name": "py311-pandas"
  },
  "language_info": {
   "codemirror_mode": {
    "name": "ipython",
    "version": 3
   },
   "file_extension": ".py",
   "mimetype": "text/x-python",
   "name": "python",
   "nbconvert_exporter": "python",
   "pygments_lexer": "ipython3",
   "version": "3.11.4"
  }
 },
 "nbformat": 4,
 "nbformat_minor": 5
}
